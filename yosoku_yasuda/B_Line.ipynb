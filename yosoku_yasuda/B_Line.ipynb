{
 "cells": [
  {
   "cell_type": "code",
   "execution_count": 1,
   "id": "1da7aee8",
   "metadata": {},
   "outputs": [
    {
     "name": "stderr",
     "output_type": "stream",
     "text": [
      "/Users/yasudayuuya/orderpredict/.venv/lib/python3.13/site-packages/tqdm/auto.py:21: TqdmWarning: IProgress not found. Please update jupyter and ipywidgets. See https://ipywidgets.readthedocs.io/en/stable/user_install.html\n",
      "  from .autonotebook import tqdm as notebook_tqdm\n"
     ]
    }
   ],
   "source": [
    "import pandas as pd\n",
    "import numpy as np\n",
    "from sklearn.model_selection import train_test_split\n",
    "from sklearn.ensemble import GradientBoostingRegressor\n",
    "from sklearn.metrics import mean_squared_error, r2_score\n",
    "from sklearn.model_selection import cross_val_score\n",
    "import shap\n",
    "import matplotlib.pyplot as plt\n",
    "import seaborn as sns\n",
    "import japanize_matplotlib\n",
    "\n",
    "file_path_2 = '/Users/yasudayuuya/orderpredict/yosoku_yasuda/【2月】Bライン生産性結果記入用紙_Ver.4.3.xlsx'  # Excelファイルのパスを指定\n",
    "sheet_name = '実績昼'  # 読み込むシート名を指定\n",
    "data_2 = pd.read_excel(file_path_2, sheet_name=sheet_name)\n",
    "\n",
    "file_path_3 = '/Users/yasudayuuya/orderpredict/yosoku_yasuda/【3月】Bライン生産性結果記入用紙_Ver.4.3.xlsx'  # Excelファイルのパスを指定\n",
    "sheet_name = '実績昼'  # 読み込むシート名を指定\n",
    "data_3 = pd.read_excel(file_path_3, sheet_name=sheet_name)\n"
   ]
  },
  {
   "cell_type": "code",
   "execution_count": 2,
   "id": "619ed70b",
   "metadata": {},
   "outputs": [],
   "source": [
    "# 行列を逆にする\n",
    "data_2 = data_2.T\n",
    "# 1行目を列名にする\n",
    "data_2.columns = data_2.iloc[1]\n",
    "# 0,1行目を削除\n",
    "data_2 = data_2.drop(data_2.index[[0, 1]])\n",
    "\n",
    "# 行列を逆にする\n",
    "data_3 = data_3.T\n",
    "# 1行目を列名にする\n",
    "data_3.columns = data_3.iloc[1]\n",
    "# 0,1行目を削除\n",
    "data_3 = data_3.drop(data_3.index[[0, 1]])"
   ]
  },
  {
   "cell_type": "code",
   "execution_count": 3,
   "id": "9438f4be",
   "metadata": {},
   "outputs": [
    {
     "data": {
      "text/plain": [
       "Unnamed: 1\n",
       "NaN            32\n",
       "NaN            32\n",
       "項目              0\n",
       "件数              0\n",
       "作業時間(分)         0\n",
       "作業人数           20\n",
       "リーダー人数         20\n",
       "合計作業人数          3\n",
       "作業ライン          20\n",
       "1人あたりの作業時間     21\n",
       "1本あたりの平均作業数    21\n",
       "1日あたりの作業件数     31\n",
       "日付              1\n",
       "dtype: int64"
      ]
     },
     "execution_count": 3,
     "metadata": {},
     "output_type": "execute_result"
    }
   ],
   "source": [
    "# 欠損値を探す\n",
    "data_2.isnull().sum()\n",
    "data_3.isnull().sum()"
   ]
  },
  {
   "cell_type": "code",
   "execution_count": 7,
   "id": "6893cfeb",
   "metadata": {},
   "outputs": [
    {
     "data": {
      "text/html": [
       "<div>\n",
       "<style scoped>\n",
       "    .dataframe tbody tr th:only-of-type {\n",
       "        vertical-align: middle;\n",
       "    }\n",
       "\n",
       "    .dataframe tbody tr th {\n",
       "        vertical-align: top;\n",
       "    }\n",
       "\n",
       "    .dataframe thead th {\n",
       "        text-align: right;\n",
       "    }\n",
       "</style>\n",
       "<table border=\"1\" class=\"dataframe\">\n",
       "  <thead>\n",
       "    <tr style=\"text-align: right;\">\n",
       "      <th>Unnamed: 1</th>\n",
       "      <th>NaN</th>\n",
       "      <th>NaN</th>\n",
       "      <th>項目</th>\n",
       "      <th>件数</th>\n",
       "      <th>作業時間(分)</th>\n",
       "      <th>作業人数</th>\n",
       "      <th>リーダー人数</th>\n",
       "      <th>合計作業人数</th>\n",
       "      <th>作業ライン</th>\n",
       "      <th>1人あたりの作業時間</th>\n",
       "      <th>1本あたりの平均作業数</th>\n",
       "      <th>1日あたりの作業件数</th>\n",
       "      <th>日付</th>\n",
       "    </tr>\n",
       "  </thead>\n",
       "  <tbody>\n",
       "    <tr>\n",
       "      <th>Unnamed: 2</th>\n",
       "      <td>NaN</td>\n",
       "      <td>NaN</td>\n",
       "      <td>2024-10-01 00:00:00</td>\n",
       "      <td>0</td>\n",
       "      <td>0</td>\n",
       "      <td>NaN</td>\n",
       "      <td>NaN</td>\n",
       "      <td>NaN</td>\n",
       "      <td>NaN</td>\n",
       "      <td>NaN</td>\n",
       "      <td>NaN</td>\n",
       "      <td>NaN</td>\n",
       "      <td>1</td>\n",
       "    </tr>\n",
       "    <tr>\n",
       "      <th>Unnamed: 3</th>\n",
       "      <td>NaN</td>\n",
       "      <td>NaN</td>\n",
       "      <td>2024-10-02 00:00:00</td>\n",
       "      <td>0</td>\n",
       "      <td>0</td>\n",
       "      <td>NaN</td>\n",
       "      <td>NaN</td>\n",
       "      <td>0</td>\n",
       "      <td>NaN</td>\n",
       "      <td>NaN</td>\n",
       "      <td>NaN</td>\n",
       "      <td>NaN</td>\n",
       "      <td>2</td>\n",
       "    </tr>\n",
       "    <tr>\n",
       "      <th>Unnamed: 4</th>\n",
       "      <td>NaN</td>\n",
       "      <td>NaN</td>\n",
       "      <td>2024-10-03 00:00:00</td>\n",
       "      <td>0</td>\n",
       "      <td>0</td>\n",
       "      <td>NaN</td>\n",
       "      <td>NaN</td>\n",
       "      <td>0</td>\n",
       "      <td>NaN</td>\n",
       "      <td>NaN</td>\n",
       "      <td>NaN</td>\n",
       "      <td>NaN</td>\n",
       "      <td>3</td>\n",
       "    </tr>\n",
       "    <tr>\n",
       "      <th>Unnamed: 5</th>\n",
       "      <td>NaN</td>\n",
       "      <td>NaN</td>\n",
       "      <td>2024-10-04 00:00:00</td>\n",
       "      <td>0</td>\n",
       "      <td>0</td>\n",
       "      <td>NaN</td>\n",
       "      <td>NaN</td>\n",
       "      <td>0</td>\n",
       "      <td>NaN</td>\n",
       "      <td>NaN</td>\n",
       "      <td>NaN</td>\n",
       "      <td>NaN</td>\n",
       "      <td>4</td>\n",
       "    </tr>\n",
       "    <tr>\n",
       "      <th>Unnamed: 6</th>\n",
       "      <td>NaN</td>\n",
       "      <td>NaN</td>\n",
       "      <td>2024-10-05 00:00:00</td>\n",
       "      <td>0</td>\n",
       "      <td>0</td>\n",
       "      <td>NaN</td>\n",
       "      <td>NaN</td>\n",
       "      <td>0</td>\n",
       "      <td>NaN</td>\n",
       "      <td>NaN</td>\n",
       "      <td>NaN</td>\n",
       "      <td>NaN</td>\n",
       "      <td>5</td>\n",
       "    </tr>\n",
       "  </tbody>\n",
       "</table>\n",
       "</div>"
      ],
      "text/plain": [
       "Unnamed: 1  NaN  NaN                   項目 件数 作業時間(分) 作業人数 リーダー人数 合計作業人数 作業ライン  \\\n",
       "Unnamed: 2  NaN  NaN  2024-10-01 00:00:00  0       0  NaN    NaN    NaN   NaN   \n",
       "Unnamed: 3  NaN  NaN  2024-10-02 00:00:00  0       0  NaN    NaN      0   NaN   \n",
       "Unnamed: 4  NaN  NaN  2024-10-03 00:00:00  0       0  NaN    NaN      0   NaN   \n",
       "Unnamed: 5  NaN  NaN  2024-10-04 00:00:00  0       0  NaN    NaN      0   NaN   \n",
       "Unnamed: 6  NaN  NaN  2024-10-05 00:00:00  0       0  NaN    NaN      0   NaN   \n",
       "\n",
       "Unnamed: 1 1人あたりの作業時間 1本あたりの平均作業数 1日あたりの作業件数 日付  \n",
       "Unnamed: 2        NaN         NaN        NaN  1  \n",
       "Unnamed: 3        NaN         NaN        NaN  2  \n",
       "Unnamed: 4        NaN         NaN        NaN  3  \n",
       "Unnamed: 5        NaN         NaN        NaN  4  \n",
       "Unnamed: 6        NaN         NaN        NaN  5  "
      ]
     },
     "execution_count": 7,
     "metadata": {},
     "output_type": "execute_result"
    }
   ],
   "source": [
    "data_3.head()\n"
   ]
  },
  {
   "cell_type": "code",
   "execution_count": 8,
   "id": "434495b9",
   "metadata": {},
   "outputs": [],
   "source": [
    "data_2 = data_2.drop(data_2.columns[[0, 1, 9, 10]], axis=1)\n",
    "data_3 = data_3.drop(data_3.columns[[0, 1, 2, 10, 11]], axis=1)"
   ]
  },
  {
   "cell_type": "code",
   "execution_count": 9,
   "id": "25f650c4",
   "metadata": {},
   "outputs": [
    {
     "name": "stderr",
     "output_type": "stream",
     "text": [
      "/var/folders/wl/_sk4lq9107v79smv_pqvls780000gn/T/ipykernel_4947/2367021029.py:2: FutureWarning: Downcasting object dtype arrays on .fillna, .ffill, .bfill is deprecated and will change in a future version. Call result.infer_objects(copy=False) instead. To opt-in to the future behavior, set `pd.set_option('future.no_silent_downcasting', True)`\n",
      "  data_2 = data_2.fillna(0)\n",
      "/var/folders/wl/_sk4lq9107v79smv_pqvls780000gn/T/ipykernel_4947/2367021029.py:3: FutureWarning: Downcasting object dtype arrays on .fillna, .ffill, .bfill is deprecated and will change in a future version. Call result.infer_objects(copy=False) instead. To opt-in to the future behavior, set `pd.set_option('future.no_silent_downcasting', True)`\n",
      "  data_3 = data_3.fillna(0)\n"
     ]
    }
   ],
   "source": [
    "# NaNを全て0に変換\n",
    "data_2 = data_2.fillna(0)\n",
    "data_3 = data_3.fillna(0)"
   ]
  },
  {
   "cell_type": "code",
   "execution_count": 12,
   "id": "4520eec9",
   "metadata": {},
   "outputs": [
    {
     "data": {
      "text/plain": [
       "Unnamed: 2        0\n",
       "Unnamed: 3        0\n",
       "Unnamed: 4        0\n",
       "Unnamed: 5        0\n",
       "Unnamed: 6        0\n",
       "Unnamed: 7      177\n",
       "Unnamed: 8      294\n",
       "Unnamed: 9      177\n",
       "Unnamed: 10       0\n",
       "Unnamed: 11     380\n",
       "Unnamed: 12     640\n",
       "Unnamed: 13     481\n",
       "Unnamed: 14     530\n",
       "Unnamed: 15     569\n",
       "Unnamed: 16       0\n",
       "Unnamed: 17       0\n",
       "Unnamed: 18     597\n",
       "Unnamed: 19     417\n",
       "Unnamed: 20     202\n",
       "Unnamed: 21       0\n",
       "Unnamed: 22       0\n",
       "Unnamed: 23       0\n",
       "Unnamed: 24       0\n",
       "Unnamed: 25       0\n",
       "Unnamed: 26       0\n",
       "Unnamed: 27       0\n",
       "Unnamed: 28       0\n",
       "Unnamed: 29       0\n",
       "Unnamed: 30       0\n",
       "Unnamed: 31       0\n",
       "Unnamed: 32       0\n",
       "Unnamed: 33    4464\n",
       "Name: 件数, dtype: int64"
      ]
     },
     "execution_count": 12,
     "metadata": {},
     "output_type": "execute_result"
    }
   ],
   "source": [
    "# 0列目のデータを表示\n",
    "data_2.iloc[:, 0]"
   ]
  },
  {
   "cell_type": "code",
   "execution_count": 13,
   "id": "8a229354",
   "metadata": {},
   "outputs": [
    {
     "data": {
      "text/plain": [
       "Unnamed: 2        0\n",
       "Unnamed: 3        0\n",
       "Unnamed: 4        0\n",
       "Unnamed: 5        0\n",
       "Unnamed: 6        0\n",
       "Unnamed: 7        0\n",
       "Unnamed: 8      237\n",
       "Unnamed: 9        0\n",
       "Unnamed: 10       0\n",
       "Unnamed: 11     423\n",
       "Unnamed: 12     400\n",
       "Unnamed: 13     311\n",
       "Unnamed: 14     440\n",
       "Unnamed: 15     493\n",
       "Unnamed: 16      90\n",
       "Unnamed: 17       0\n",
       "Unnamed: 18     801\n",
       "Unnamed: 19     281\n",
       "Unnamed: 20     502\n",
       "Unnamed: 21     231\n",
       "Unnamed: 22       0\n",
       "Unnamed: 23       0\n",
       "Unnamed: 24       0\n",
       "Unnamed: 25       0\n",
       "Unnamed: 26       0\n",
       "Unnamed: 27       0\n",
       "Unnamed: 28       0\n",
       "Unnamed: 29       0\n",
       "Unnamed: 30       0\n",
       "Unnamed: 31       0\n",
       "Unnamed: 32       0\n",
       "Unnamed: 33    4209\n",
       "Name: 件数, dtype: int64"
      ]
     },
     "execution_count": 13,
     "metadata": {},
     "output_type": "execute_result"
    }
   ],
   "source": [
    "data_3.iloc[:, 0]"
   ]
  },
  {
   "cell_type": "code",
   "execution_count": 14,
   "id": "bf262355",
   "metadata": {},
   "outputs": [],
   "source": [
    "# Unnamed: 33と34を削除\n",
    "data_2 = data_2.drop(data_2.index[[28, 29, 30, 31]])\n",
    "data_3 = data_3.drop(data_3.index[[31]])\n"
   ]
  },
  {
   "cell_type": "code",
   "execution_count": 15,
   "id": "fd3d55f9",
   "metadata": {},
   "outputs": [],
   "source": [
    "# 「件数」数が0の行を削除\n",
    "data_2 = data_2[data_2['件数'] != 0]\n",
    "data_3 = data_3[data_3['件数'] != 0]"
   ]
  },
  {
   "cell_type": "code",
   "execution_count": 16,
   "id": "d8c50163",
   "metadata": {},
   "outputs": [
    {
     "name": "stdout",
     "output_type": "stream",
     "text": [
      "Unnamed: 1\n",
      "件数             405.818182\n",
      "作業時間(分)       2980.272727\n",
      "作業人数             7.545455\n",
      "リーダー人数           2.181818\n",
      "合計作業人数           9.727273\n",
      "作業ライン            3.000000\n",
      "1人あたりの作業時間     300.119697\n",
      "日付              12.272727\n",
      "dtype: float64\n",
      "Unnamed: 1\n",
      "件数             172.813667\n",
      "作業時間(分)       1260.490150\n",
      "作業人数             1.863525\n",
      "リーダー人数           0.603023\n",
      "合計作業人数           2.284334\n",
      "作業ライン            0.774597\n",
      "1人あたりの作業時間     101.800955\n",
      "日付               4.429242\n",
      "dtype: float64\n"
     ]
    }
   ],
   "source": [
    "# データの標準偏差及び平均を取得（正規化解除に使用）\n",
    "original_mean_2 = data_2.mean()\n",
    "original_std_2 = data_2.std()\n",
    "print(original_mean_2)\n",
    "print(original_std_2)"
   ]
  },
  {
   "cell_type": "code",
   "execution_count": 17,
   "id": "15b09886",
   "metadata": {},
   "outputs": [
    {
     "name": "stdout",
     "output_type": "stream",
     "text": [
      "Unnamed: 1\n",
      "件数             382.636364\n",
      "作業時間(分)       2788.181818\n",
      "作業人数             1.545455\n",
      "リーダー人数           7.000000\n",
      "合計作業人数           8.545455\n",
      "作業ライン            2.818182\n",
      "1人あたりの作業時間     321.000000\n",
      "日付              14.181818\n",
      "dtype: float64\n",
      "Unnamed: 1\n",
      "件数             187.610913\n",
      "作業時間(分)       1295.128628\n",
      "作業人数             0.522233\n",
      "リーダー人数           2.569047\n",
      "合計作業人数           2.978712\n",
      "作業ライン            0.981650\n",
      "1人あたりの作業時間      95.838210\n",
      "日付               4.069845\n",
      "dtype: float64\n"
     ]
    }
   ],
   "source": [
    "# データの標準偏差及び平均を取得（正規化解除に使用）\n",
    "original_mean_3 = data_3.mean()\n",
    "original_std_3 = data_3.std()\n",
    "print(original_mean_3)\n",
    "print(original_std_3)"
   ]
  },
  {
   "cell_type": "code",
   "execution_count": 18,
   "id": "160cfcc0",
   "metadata": {},
   "outputs": [],
   "source": [
    "# 対数変換\n",
    "data_2 = data_2.apply(lambda x: np.log(x + 1))\n",
    "data_3 = data_3.apply(lambda x: np.log(x + 1))"
   ]
  },
  {
   "cell_type": "code",
   "execution_count": 19,
   "id": "b8915ade",
   "metadata": {},
   "outputs": [],
   "source": [
    "# カラム名の順番を合わせる\n",
    "data_2 = data_2[data_3.columns]"
   ]
  },
  {
   "cell_type": "code",
   "execution_count": 20,
   "id": "6dd2005d",
   "metadata": {},
   "outputs": [],
   "source": [
    "# 目的変数と説明変数の設定\n",
    "X_train = data_2.drop(columns='件数', errors='ignore')\n",
    "y_train = data_2['件数']\n",
    "X_test = data_3.drop(columns='件数', errors='ignore')\n",
    "y_test = data_3['件数']"
   ]
  },
  {
   "cell_type": "markdown",
   "id": "2383b8da",
   "metadata": {},
   "source": [
    "# ベイズ最適化"
   ]
  },
  {
   "cell_type": "code",
   "execution_count": 27,
   "id": "2e22ddef",
   "metadata": {},
   "outputs": [
    {
     "name": "stdout",
     "output_type": "stream",
     "text": [
      "Collecting bayesian-optimization\n",
      "  Downloading bayesian_optimization-2.0.4-py3-none-any.whl.metadata (9.0 kB)\n",
      "Collecting colorama<0.5.0,>=0.4.6 (from bayesian-optimization)\n",
      "  Using cached colorama-0.4.6-py2.py3-none-any.whl.metadata (17 kB)\n",
      "Requirement already satisfied: numpy>=1.25 in /Users/yasudayuuya/orderpredict/.venv/lib/python3.13/site-packages (from bayesian-optimization) (2.1.0)\n",
      "Requirement already satisfied: scikit-learn<2.0.0,>=1.0.0 in /Users/yasudayuuya/orderpredict/.venv/lib/python3.13/site-packages (from bayesian-optimization) (1.6.1)\n",
      "Requirement already satisfied: scipy<2.0.0,>=1.14.1 in /Users/yasudayuuya/orderpredict/.venv/lib/python3.13/site-packages (from bayesian-optimization) (1.15.1)\n",
      "Requirement already satisfied: joblib>=1.2.0 in /Users/yasudayuuya/orderpredict/.venv/lib/python3.13/site-packages (from scikit-learn<2.0.0,>=1.0.0->bayesian-optimization) (1.4.2)\n",
      "Requirement already satisfied: threadpoolctl>=3.1.0 in /Users/yasudayuuya/orderpredict/.venv/lib/python3.13/site-packages (from scikit-learn<2.0.0,>=1.0.0->bayesian-optimization) (3.5.0)\n",
      "Downloading bayesian_optimization-2.0.4-py3-none-any.whl (31 kB)\n",
      "Using cached colorama-0.4.6-py2.py3-none-any.whl (25 kB)\n",
      "Installing collected packages: colorama, bayesian-optimization\n",
      "Successfully installed bayesian-optimization-2.0.4 colorama-0.4.6\n",
      "\n",
      "\u001b[1m[\u001b[0m\u001b[34;49mnotice\u001b[0m\u001b[1;39;49m]\u001b[0m\u001b[39;49m A new release of pip is available: \u001b[0m\u001b[31;49m24.3.1\u001b[0m\u001b[39;49m -> \u001b[0m\u001b[32;49m25.1.1\u001b[0m\n",
      "\u001b[1m[\u001b[0m\u001b[34;49mnotice\u001b[0m\u001b[1;39;49m]\u001b[0m\u001b[39;49m To update, run: \u001b[0m\u001b[32;49mpip install --upgrade pip\u001b[0m\n",
      "Note: you may need to restart the kernel to use updated packages.\n",
      "|   iter    |  target   | learni... | max_depth | max_fe... | min_sa... | n_esti... | subsample |\n",
      "-------------------------------------------------------------------------------------------------\n",
      "| \u001b[39m1        \u001b[39m | \u001b[39m-113.2   \u001b[39m | \u001b[39m0.1155   \u001b[39m | \u001b[39m9.655    \u001b[39m | \u001b[39m0.866    \u001b[39m | \u001b[39m12.78    \u001b[39m | \u001b[39m240.4    \u001b[39m | \u001b[39m0.578    \u001b[39m |\n",
      "| \u001b[39m2        \u001b[39m | \u001b[39m-124.7   \u001b[39m | \u001b[39m0.02213  \u001b[39m | \u001b[39m9.063    \u001b[39m | \u001b[39m0.8006   \u001b[39m | \u001b[39m14.75    \u001b[39m | \u001b[39m118.5    \u001b[39m | \u001b[39m0.985    \u001b[39m |\n",
      "| \u001b[35m3        \u001b[39m | \u001b[35m-72.08   \u001b[39m | \u001b[35m0.2506   \u001b[39m | \u001b[35m4.486    \u001b[39m | \u001b[35m0.5909   \u001b[39m | \u001b[35m5.301    \u001b[39m | \u001b[35m373.8    \u001b[39m | \u001b[35m0.7624   \u001b[39m |\n",
      "| \u001b[35m4        \u001b[39m | \u001b[35m-61.51   \u001b[39m | \u001b[35m0.1324   \u001b[39m | \u001b[35m5.039    \u001b[39m | \u001b[35m0.8059   \u001b[39m | \u001b[35m4.511    \u001b[39m | \u001b[35m362.9    \u001b[39m | \u001b[35m0.6832   \u001b[39m |\n",
      "| \u001b[39m5        \u001b[39m | \u001b[39m-124.4   \u001b[39m | \u001b[39m0.1395   \u001b[39m | \u001b[39m8.496    \u001b[39m | \u001b[39m0.5998   \u001b[39m | \u001b[39m11.26    \u001b[39m | \u001b[39m633.2    \u001b[39m | \u001b[39m0.5232   \u001b[39m |\n",
      "| \u001b[39m6        \u001b[39m | \u001b[39m-125.8   \u001b[39m | \u001b[39m0.3      \u001b[39m | \u001b[39m10.0     \u001b[39m | \u001b[39m0.5      \u001b[39m | \u001b[39m20.0     \u001b[39m | \u001b[39m330.2    \u001b[39m | \u001b[39m1.0      \u001b[39m |\n",
      "| \u001b[39m7        \u001b[39m | \u001b[39m-117.6   \u001b[39m | \u001b[39m0.1867   \u001b[39m | \u001b[39m5.255    \u001b[39m | \u001b[39m0.9096   \u001b[39m | \u001b[39m5.478    \u001b[39m | \u001b[39m362.0    \u001b[39m | \u001b[39m0.7202   \u001b[39m |\n",
      "| \u001b[39m8        \u001b[39m | \u001b[39m-136.2   \u001b[39m | \u001b[39m0.06705  \u001b[39m | \u001b[39m9.947    \u001b[39m | \u001b[39m0.607    \u001b[39m | \u001b[39m14.62    \u001b[39m | \u001b[39m546.1    \u001b[39m | \u001b[39m0.6438   \u001b[39m |\n",
      "| \u001b[39m9        \u001b[39m | \u001b[39m-148.5   \u001b[39m | \u001b[39m0.2379   \u001b[39m | \u001b[39m6.749    \u001b[39m | \u001b[39m0.9474   \u001b[39m | \u001b[39m10.23    \u001b[39m | \u001b[39m480.2    \u001b[39m | \u001b[39m0.8269   \u001b[39m |\n",
      "| \u001b[35m10       \u001b[39m | \u001b[35m-34.18   \u001b[39m | \u001b[35m0.1342   \u001b[39m | \u001b[35m4.13     \u001b[39m | \u001b[35m0.5701   \u001b[39m | \u001b[35m2.027    \u001b[39m | \u001b[35m998.2    \u001b[39m | \u001b[35m0.7664   \u001b[39m |\n",
      "| \u001b[39m11       \u001b[39m | \u001b[39m-37.82   \u001b[39m | \u001b[39m0.2198   \u001b[39m | \u001b[39m6.057    \u001b[39m | \u001b[39m0.7109   \u001b[39m | \u001b[39m2.548    \u001b[39m | \u001b[39m168.1    \u001b[39m | \u001b[39m0.8332   \u001b[39m |\n",
      "| \u001b[39m12       \u001b[39m | \u001b[39m-156.9   \u001b[39m | \u001b[39m0.1285   \u001b[39m | \u001b[39m8.078    \u001b[39m | \u001b[39m0.7605   \u001b[39m | \u001b[39m15.35    \u001b[39m | \u001b[39m170.4    \u001b[39m | \u001b[39m0.5163   \u001b[39m |\n",
      "| \u001b[39m13       \u001b[39m | \u001b[39m-100.1   \u001b[39m | \u001b[39m0.2225   \u001b[39m | \u001b[39m8.541    \u001b[39m | \u001b[39m0.7882   \u001b[39m | \u001b[39m9.029    \u001b[39m | \u001b[39m615.1    \u001b[39m | \u001b[39m0.5372   \u001b[39m |\n",
      "| \u001b[39m14       \u001b[39m | \u001b[39m-108.8   \u001b[39m | \u001b[39m0.218    \u001b[39m | \u001b[39m3.201    \u001b[39m | \u001b[39m0.8868   \u001b[39m | \u001b[39m14.0     \u001b[39m | \u001b[39m721.0    \u001b[39m | \u001b[39m0.7682   \u001b[39m |\n",
      "| \u001b[39m15       \u001b[39m | \u001b[39m-91.71   \u001b[39m | \u001b[39m0.2633   \u001b[39m | \u001b[39m5.342    \u001b[39m | \u001b[39m0.668    \u001b[39m | \u001b[39m18.93    \u001b[39m | \u001b[39m592.9    \u001b[39m | \u001b[39m0.6121   \u001b[39m |\n",
      "| \u001b[39m16       \u001b[39m | \u001b[39m-127.5   \u001b[39m | \u001b[39m0.1344   \u001b[39m | \u001b[39m9.867    \u001b[39m | \u001b[39m0.6324   \u001b[39m | \u001b[39m11.45    \u001b[39m | \u001b[39m353.7    \u001b[39m | \u001b[39m0.7857   \u001b[39m |\n",
      "| \u001b[39m17       \u001b[39m | \u001b[39m-138.3   \u001b[39m | \u001b[39m0.04003  \u001b[39m | \u001b[39m5.463    \u001b[39m | \u001b[39m0.8726   \u001b[39m | \u001b[39m14.27    \u001b[39m | \u001b[39m607.9    \u001b[39m | \u001b[39m0.6787   \u001b[39m |\n",
      "| \u001b[39m18       \u001b[39m | \u001b[39m-38.39   \u001b[39m | \u001b[39m0.1075   \u001b[39m | \u001b[39m7.743    \u001b[39m | \u001b[39m0.7436   \u001b[39m | \u001b[39m3.65     \u001b[39m | \u001b[39m113.7    \u001b[39m | \u001b[39m0.6104   \u001b[39m |\n",
      "| \u001b[39m19       \u001b[39m | \u001b[39m-88.01   \u001b[39m | \u001b[39m0.1966   \u001b[39m | \u001b[39m9.091    \u001b[39m | \u001b[39m0.7796   \u001b[39m | \u001b[39m7.953    \u001b[39m | \u001b[39m955.5    \u001b[39m | \u001b[39m0.7786   \u001b[39m |\n",
      "| \u001b[39m20       \u001b[39m | \u001b[39m-108.3   \u001b[39m | \u001b[39m0.1595   \u001b[39m | \u001b[39m3.978    \u001b[39m | \u001b[39m0.7386   \u001b[39m | \u001b[39m11.6     \u001b[39m | \u001b[39m199.9    \u001b[39m | \u001b[39m0.649    \u001b[39m |\n",
      "| \u001b[39m21       \u001b[39m | \u001b[39m-138.4   \u001b[39m | \u001b[39m0.07161  \u001b[39m | \u001b[39m3.739    \u001b[39m | \u001b[39m0.5789   \u001b[39m | \u001b[39m11.64    \u001b[39m | \u001b[39m813.4    \u001b[39m | \u001b[39m0.8764   \u001b[39m |\n",
      "| \u001b[39m22       \u001b[39m | \u001b[39m-47.6    \u001b[39m | \u001b[39m0.07048  \u001b[39m | \u001b[39m7.381    \u001b[39m | \u001b[39m0.7958   \u001b[39m | \u001b[39m2.23     \u001b[39m | \u001b[39m842.7    \u001b[39m | \u001b[39m0.6348   \u001b[39m |\n",
      "| \u001b[39m23       \u001b[39m | \u001b[39m-126.5   \u001b[39m | \u001b[39m0.03579  \u001b[39m | \u001b[39m8.194    \u001b[39m | \u001b[39m0.7917   \u001b[39m | \u001b[39m18.62    \u001b[39m | \u001b[39m269.8    \u001b[39m | \u001b[39m0.5992   \u001b[39m |\n",
      "| \u001b[39m24       \u001b[39m | \u001b[39m-137.5   \u001b[39m | \u001b[39m0.2748   \u001b[39m | \u001b[39m3.929    \u001b[39m | \u001b[39m0.7497   \u001b[39m | \u001b[39m15.95    \u001b[39m | \u001b[39m553.1    \u001b[39m | \u001b[39m0.5411   \u001b[39m |\n",
      "| \u001b[39m25       \u001b[39m | \u001b[39m-82.48   \u001b[39m | \u001b[39m0.191    \u001b[39m | \u001b[39m4.426    \u001b[39m | \u001b[39m0.6563   \u001b[39m | \u001b[39m5.571    \u001b[39m | \u001b[39m243.6    \u001b[39m | \u001b[39m0.986    \u001b[39m |\n",
      "| \u001b[39m26       \u001b[39m | \u001b[39m-165.6   \u001b[39m | \u001b[39m0.2494   \u001b[39m | \u001b[39m7.917    \u001b[39m | \u001b[39m0.5584   \u001b[39m | \u001b[39m9.562    \u001b[39m | \u001b[39m161.5    \u001b[39m | \u001b[39m0.5187   \u001b[39m |\n",
      "| \u001b[39m27       \u001b[39m | \u001b[39m-132.9   \u001b[39m | \u001b[39m0.08918  \u001b[39m | \u001b[39m6.993    \u001b[39m | \u001b[39m0.871    \u001b[39m | \u001b[39m18.44    \u001b[39m | \u001b[39m171.4    \u001b[39m | \u001b[39m0.8535   \u001b[39m |\n",
      "| \u001b[39m28       \u001b[39m | \u001b[39m-47.77   \u001b[39m | \u001b[39m0.1632   \u001b[39m | \u001b[39m9.927    \u001b[39m | \u001b[39m0.8318   \u001b[39m | \u001b[39m2.065    \u001b[39m | \u001b[39m550.1    \u001b[39m | \u001b[39m0.6476   \u001b[39m |\n",
      "| \u001b[39m29       \u001b[39m | \u001b[39m-122.3   \u001b[39m | \u001b[39m0.02432  \u001b[39m | \u001b[39m5.227    \u001b[39m | \u001b[39m0.7165   \u001b[39m | \u001b[39m19.98    \u001b[39m | \u001b[39m157.9    \u001b[39m | \u001b[39m0.8481   \u001b[39m |\n",
      "| \u001b[39m30       \u001b[39m | \u001b[39m-133.3   \u001b[39m | \u001b[39m0.1625   \u001b[39m | \u001b[39m6.31     \u001b[39m | \u001b[39m0.5105   \u001b[39m | \u001b[39m12.41    \u001b[39m | \u001b[39m666.6    \u001b[39m | \u001b[39m0.816    \u001b[39m |\n",
      "=================================================================================================\n",
      "Best parameters found:  {'learning_rate': np.float64(0.13416000957770816), 'max_depth': 4, 'max_features': np.float64(0.570129994537456), 'min_samples_split': 2, 'n_estimators': 998, 'subsample': np.float64(0.76640929484195)}\n",
      "Test Mean Squared Error: 0.20348977464682372\n",
      "Test R² Score: 0.30607997427271205\n",
      "モデルを保存しました。\n"
     ]
    }
   ],
   "source": [
    "%pip install bayesian-optimization\n",
    "from bayes_opt import BayesianOptimization\n",
    "import joblib\n",
    "from sklearn.model_selection import cross_val_score\n",
    "\n",
    "def optimize_gbr_cv(n_estimators, learning_rate, max_depth, max_features, min_samples_split, subsample):\n",
    "    model = GradientBoostingRegressor(\n",
    "        n_estimators=int(n_estimators),\n",
    "        learning_rate=learning_rate,\n",
    "        max_depth=int(max_depth),\n",
    "        max_features=max_features,\n",
    "        min_samples_split=int(min_samples_split),\n",
    "        subsample=subsample,\n",
    "        random_state=42\n",
    "    )\n",
    "    # CVでの平均R²スコアを返す\n",
    "    return cross_val_score(model, X_train, y_train, cv=5, scoring='r2').mean()\n",
    "\n",
    "# ハイパーパラメータの範囲を設定\n",
    "pbounds = {\n",
    "    'n_estimators': (100, 1000),\n",
    "    'learning_rate': (0.005, 0.3),\n",
    "    'max_depth': (3, 10),\n",
    "    'min_samples_split': (2, 20),\n",
    "    'subsample': (0.5, 1.0),\n",
    "    'max_features': (0.5, 1.0)\n",
    "\n",
    "}\n",
    "\n",
    "# ベイズ最適化の設定および実行\n",
    "optimizer = BayesianOptimization(\n",
    "    f=optimize_gbr_cv,\n",
    "    pbounds=pbounds,\n",
    "    random_state=42,\n",
    "    verbose=2\n",
    ")\n",
    "\n",
    "optimizer.maximize(init_points=5, n_iter=25)\n",
    "\n",
    "# 最良のパラメータを取得し、最適なモデルを作成\n",
    "best_params = optimizer.max['params']\n",
    "best_params['n_estimators'] = int(best_params['n_estimators'])\n",
    "best_params['max_depth'] = int(best_params['max_depth'])\n",
    "best_params['min_samples_split'] = int(best_params['min_samples_split'])\n",
    "best_params['subsample'] = best_params['subsample']\n",
    "best_params['max_features'] = best_params['max_features']\n",
    "\n",
    "\n",
    "print(\"Best parameters found: \", best_params)\n",
    "\n",
    "best_model = GradientBoostingRegressor(**best_params, random_state=42)\n",
    "best_model.fit(X_train, y_train)\n",
    "\n",
    "# テストデータでの予測\n",
    "y_pred = best_model.predict(X_test)\n",
    "\n",
    "# 精度の評価\n",
    "mse = mean_squared_error(y_test, y_pred)\n",
    "r2 = r2_score(y_test, y_pred)\n",
    "print(f'Test Mean Squared Error: {mse}')\n",
    "print(f'Test R² Score: {r2}')\n",
    "\n",
    "\n",
    "# モデル保存（拡張子は .pkl が多い）\n",
    "# 学習に使った特徴量（カラム名と順番）を保存しておく\n",
    "feature_names = X_train.columns.tolist()\n",
    "joblib.dump((best_model, feature_names), 'model.pkl2')\n",
    "\n",
    "print(\"モデルを保存しました。\")"
   ]
  },
  {
   "cell_type": "code",
   "execution_count": 28,
   "id": "1f0f5611",
   "metadata": {},
   "outputs": [
    {
     "name": "stdout",
     "output_type": "stream",
     "text": [
      "Predicted: 172.6438068392298\n",
      "Actual: 238.00000000000009\n",
      "Difference: -65.35619316077029\n",
      "----------\n",
      "Predicted: 244.25523885391453\n",
      "Actual: 424.0\n",
      "Difference: -179.74476114608547\n",
      "----------\n",
      "Predicted: 365.3528864884705\n",
      "Actual: 401.00000000000006\n",
      "Difference: -35.64711351152954\n",
      "----------\n",
      "Predicted: 233.53371964983927\n",
      "Actual: 312.00000000000006\n",
      "Difference: -78.46628035016079\n",
      "----------\n",
      "Predicted: 413.56387965214117\n",
      "Actual: 441.0\n",
      "Difference: -27.436120347858832\n",
      "----------\n",
      "Predicted: 417.39008172334593\n",
      "Actual: 494.00000000000017\n",
      "Difference: -76.60991827665424\n",
      "----------\n",
      "Predicted: 185.9223245521382\n",
      "Actual: 90.99999999999997\n",
      "Difference: 94.92232455213824\n",
      "----------\n",
      "Predicted: 394.5704698862117\n",
      "Actual: 802.0000000000002\n",
      "Difference: -407.42953011378853\n",
      "----------\n",
      "Predicted: 398.65867242262254\n",
      "Actual: 282.00000000000006\n",
      "Difference: 116.65867242262249\n",
      "----------\n",
      "Predicted: 236.0151938907365\n",
      "Actual: 503.0\n",
      "Difference: -266.9848061092635\n",
      "----------\n",
      "Predicted: 232.93962685653062\n",
      "Actual: 231.99999999999997\n",
      "Difference: 0.9396268565306514\n",
      "----------\n"
     ]
    }
   ],
   "source": [
    "# 全てのデータに対して\n",
    "# 予測を行う\n",
    "y_pred = best_model.predict(X_test)\n",
    "\n",
    "# 予測結果を元に戻す\n",
    "y_pred_original = np.exp(y_pred)\n",
    "y_test_original = np.exp(y_test)\n",
    "\n",
    "# 各インデックスごとに比較結果を表示\n",
    "for i in range(len(X_test)):\n",
    "    print(f'Predicted: {y_pred_original[i]}')\n",
    "    print(f'Actual: {y_test_original.iloc[i]}')\n",
    "    print(f'Difference: {y_pred_original[i] - y_test_original.iloc[i]}')\n",
    "    print('----------')"
   ]
  },
  {
   "cell_type": "code",
   "execution_count": 29,
   "id": "a52ac799",
   "metadata": {},
   "outputs": [
    {
     "data": {
      "text/html": [
       "<div>\n",
       "<style scoped>\n",
       "    .dataframe tbody tr th:only-of-type {\n",
       "        vertical-align: middle;\n",
       "    }\n",
       "\n",
       "    .dataframe tbody tr th {\n",
       "        vertical-align: top;\n",
       "    }\n",
       "\n",
       "    .dataframe thead th {\n",
       "        text-align: right;\n",
       "    }\n",
       "</style>\n",
       "<table border=\"1\" class=\"dataframe\">\n",
       "  <thead>\n",
       "    <tr style=\"text-align: right;\">\n",
       "      <th></th>\n",
       "      <th>Predicted</th>\n",
       "      <th>Actual</th>\n",
       "      <th>Difference</th>\n",
       "    </tr>\n",
       "  </thead>\n",
       "  <tbody>\n",
       "    <tr>\n",
       "      <th>Unnamed: 8</th>\n",
       "      <td>172.643807</td>\n",
       "      <td>238.0</td>\n",
       "      <td>-65.356193</td>\n",
       "    </tr>\n",
       "    <tr>\n",
       "      <th>Unnamed: 11</th>\n",
       "      <td>244.255239</td>\n",
       "      <td>424.0</td>\n",
       "      <td>-179.744761</td>\n",
       "    </tr>\n",
       "    <tr>\n",
       "      <th>Unnamed: 12</th>\n",
       "      <td>365.352886</td>\n",
       "      <td>401.0</td>\n",
       "      <td>-35.647114</td>\n",
       "    </tr>\n",
       "    <tr>\n",
       "      <th>Unnamed: 13</th>\n",
       "      <td>233.533720</td>\n",
       "      <td>312.0</td>\n",
       "      <td>-78.466280</td>\n",
       "    </tr>\n",
       "    <tr>\n",
       "      <th>Unnamed: 14</th>\n",
       "      <td>413.563880</td>\n",
       "      <td>441.0</td>\n",
       "      <td>-27.436120</td>\n",
       "    </tr>\n",
       "    <tr>\n",
       "      <th>Unnamed: 15</th>\n",
       "      <td>417.390082</td>\n",
       "      <td>494.0</td>\n",
       "      <td>-76.609918</td>\n",
       "    </tr>\n",
       "    <tr>\n",
       "      <th>Unnamed: 16</th>\n",
       "      <td>185.922325</td>\n",
       "      <td>91.0</td>\n",
       "      <td>94.922325</td>\n",
       "    </tr>\n",
       "    <tr>\n",
       "      <th>Unnamed: 18</th>\n",
       "      <td>394.570470</td>\n",
       "      <td>802.0</td>\n",
       "      <td>-407.429530</td>\n",
       "    </tr>\n",
       "    <tr>\n",
       "      <th>Unnamed: 19</th>\n",
       "      <td>398.658672</td>\n",
       "      <td>282.0</td>\n",
       "      <td>116.658672</td>\n",
       "    </tr>\n",
       "    <tr>\n",
       "      <th>Unnamed: 20</th>\n",
       "      <td>236.015194</td>\n",
       "      <td>503.0</td>\n",
       "      <td>-266.984806</td>\n",
       "    </tr>\n",
       "    <tr>\n",
       "      <th>Unnamed: 21</th>\n",
       "      <td>232.939627</td>\n",
       "      <td>232.0</td>\n",
       "      <td>0.939627</td>\n",
       "    </tr>\n",
       "  </tbody>\n",
       "</table>\n",
       "</div>"
      ],
      "text/plain": [
       "              Predicted  Actual  Difference\n",
       "Unnamed: 8   172.643807   238.0  -65.356193\n",
       "Unnamed: 11  244.255239   424.0 -179.744761\n",
       "Unnamed: 12  365.352886   401.0  -35.647114\n",
       "Unnamed: 13  233.533720   312.0  -78.466280\n",
       "Unnamed: 14  413.563880   441.0  -27.436120\n",
       "Unnamed: 15  417.390082   494.0  -76.609918\n",
       "Unnamed: 16  185.922325    91.0   94.922325\n",
       "Unnamed: 18  394.570470   802.0 -407.429530\n",
       "Unnamed: 19  398.658672   282.0  116.658672\n",
       "Unnamed: 20  236.015194   503.0 -266.984806\n",
       "Unnamed: 21  232.939627   232.0    0.939627"
      ]
     },
     "execution_count": 29,
     "metadata": {},
     "output_type": "execute_result"
    }
   ],
   "source": [
    "# 表にして表示\n",
    "df = pd.DataFrame({'Predicted': y_pred_original, 'Actual': y_test_original, 'Difference': y_pred_original - y_test_original})\n",
    "df"
   ]
  },
  {
   "cell_type": "code",
   "execution_count": 30,
   "id": "3f5fff7e",
   "metadata": {},
   "outputs": [
    {
     "name": "stdout",
     "output_type": "stream",
     "text": [
      "1350.1953468474026\n"
     ]
    }
   ],
   "source": [
    "# differenceの絶対値を合計\n",
    "df['Difference'].abs().sum()\n",
    "print(df['Difference'].abs().sum())"
   ]
  },
  {
   "cell_type": "code",
   "execution_count": 31,
   "id": "a295b1b2",
   "metadata": {},
   "outputs": [
    {
     "name": "stdout",
     "output_type": "stream",
     "text": [
      "-925.1540991848199\n"
     ]
    }
   ],
   "source": [
    "# differenceの合計\n",
    "df['Difference'].sum()\n",
    "print(df['Difference'].sum())"
   ]
  },
  {
   "cell_type": "code",
   "execution_count": 32,
   "id": "0259b566",
   "metadata": {},
   "outputs": [
    {
     "name": "stdout",
     "output_type": "stream",
     "text": [
      "152.5513620644319\n"
     ]
    }
   ],
   "source": [
    "# differenceの標準偏差を取得\n",
    "df['Difference'].std()\n",
    "print(df['Difference'].std())"
   ]
  },
  {
   "cell_type": "code",
   "execution_count": 33,
   "id": "30fd6746",
   "metadata": {},
   "outputs": [
    {
     "name": "stdout",
     "output_type": "stream",
     "text": [
      "-84.1049181077109\n"
     ]
    }
   ],
   "source": [
    "# differenceの平均\n",
    "df['Difference'].mean()\n",
    "print(df['Difference'].mean())\n"
   ]
  },
  {
   "cell_type": "code",
   "execution_count": 34,
   "id": "d3ef8723",
   "metadata": {},
   "outputs": [
    {
     "name": "stdout",
     "output_type": "stream",
     "text": [
      "プラス・マイナス100件に収まっている数: 7\n"
     ]
    }
   ],
   "source": [
    "# 予測結果がプラス・マイナス100件に収まっている数を数える\n",
    "# プラス・マイナス100件に収まっている数をカウントする変数\n",
    "within_100_count = 0\n",
    "\n",
    "# 各インデックスごとに比較結果を表示\n",
    "for i in range(len(X_test)):\n",
    "    diff = y_pred_original[i] - y_test_original.iloc[i]\n",
    "    \n",
    "    # 差がプラス・マイナス100件に収まっている場合\n",
    "    if abs(diff) <= 100:\n",
    "        within_100_count += 1\n",
    "\n",
    "# 結果を表示\n",
    "print(f'プラス・マイナス100件に収まっている数: {within_100_count}')"
   ]
  },
  {
   "cell_type": "code",
   "execution_count": 35,
   "id": "deb7571d",
   "metadata": {},
   "outputs": [
    {
     "name": "stdout",
     "output_type": "stream",
     "text": [
      "プラス・マイナス200件に収まっている数: 9\n"
     ]
    }
   ],
   "source": [
    "# 予測結果がプラス・マイナス100件に収まっている数を数える\n",
    "# プラス・マイナス100件に収まっている数をカウントする変数\n",
    "within_200_count = 0\n",
    "\n",
    "# 各インデックスごとに比較結果を表示\n",
    "for i in range(len(X_test)):\n",
    "    diff = y_pred_original[i] - y_test_original.iloc[i]\n",
    "    \n",
    "    # 差がプラス・マイナス200件に収まっている場合\n",
    "    if abs(diff) <= 200:\n",
    "        within_200_count += 1\n",
    "\n",
    "# 結果を表示\n",
    "print(f'プラス・マイナス200件に収まっている数: {within_200_count}')"
   ]
  },
  {
   "cell_type": "code",
   "execution_count": 36,
   "id": "d9eed8b3",
   "metadata": {},
   "outputs": [
    {
     "data": {
      "text/html": [
       "<div>\n",
       "<style scoped>\n",
       "    .dataframe tbody tr th:only-of-type {\n",
       "        vertical-align: middle;\n",
       "    }\n",
       "\n",
       "    .dataframe tbody tr th {\n",
       "        vertical-align: top;\n",
       "    }\n",
       "\n",
       "    .dataframe thead th {\n",
       "        text-align: right;\n",
       "    }\n",
       "</style>\n",
       "<table border=\"1\" class=\"dataframe\">\n",
       "  <thead>\n",
       "    <tr style=\"text-align: right;\">\n",
       "      <th></th>\n",
       "      <th>features</th>\n",
       "      <th>importance</th>\n",
       "    </tr>\n",
       "  </thead>\n",
       "  <tbody>\n",
       "    <tr>\n",
       "      <th>1</th>\n",
       "      <td>作業人数</td>\n",
       "      <td>0.438873</td>\n",
       "    </tr>\n",
       "    <tr>\n",
       "      <th>4</th>\n",
       "      <td>作業ライン</td>\n",
       "      <td>0.250497</td>\n",
       "    </tr>\n",
       "    <tr>\n",
       "      <th>6</th>\n",
       "      <td>日付</td>\n",
       "      <td>0.137720</td>\n",
       "    </tr>\n",
       "    <tr>\n",
       "      <th>0</th>\n",
       "      <td>作業時間(分)</td>\n",
       "      <td>0.104909</td>\n",
       "    </tr>\n",
       "    <tr>\n",
       "      <th>5</th>\n",
       "      <td>1人あたりの作業時間</td>\n",
       "      <td>0.049668</td>\n",
       "    </tr>\n",
       "    <tr>\n",
       "      <th>3</th>\n",
       "      <td>合計作業人数</td>\n",
       "      <td>0.016492</td>\n",
       "    </tr>\n",
       "    <tr>\n",
       "      <th>2</th>\n",
       "      <td>リーダー人数</td>\n",
       "      <td>0.001840</td>\n",
       "    </tr>\n",
       "  </tbody>\n",
       "</table>\n",
       "</div>"
      ],
      "text/plain": [
       "     features  importance\n",
       "1        作業人数    0.438873\n",
       "4       作業ライン    0.250497\n",
       "6          日付    0.137720\n",
       "0     作業時間(分)    0.104909\n",
       "5  1人あたりの作業時間    0.049668\n",
       "3      合計作業人数    0.016492\n",
       "2      リーダー人数    0.001840"
      ]
     },
     "execution_count": 36,
     "metadata": {},
     "output_type": "execute_result"
    }
   ],
   "source": [
    "# 特徴量重要度を表示\n",
    "feature_importances = best_model.feature_importances_\n",
    "features = data_2.drop(columns='件数', errors='ignore').columns\n",
    "df = pd.DataFrame({'features': features, 'importance': feature_importances})\n",
    "df = df.sort_values(by='importance', ascending=False)\n",
    "df"
   ]
  }
 ],
 "metadata": {
  "kernelspec": {
   "display_name": ".venv",
   "language": "python",
   "name": "python3"
  },
  "language_info": {
   "codemirror_mode": {
    "name": "ipython",
    "version": 3
   },
   "file_extension": ".py",
   "mimetype": "text/x-python",
   "name": "python",
   "nbconvert_exporter": "python",
   "pygments_lexer": "ipython3",
   "version": "3.13.2"
  }
 },
 "nbformat": 4,
 "nbformat_minor": 5
}
