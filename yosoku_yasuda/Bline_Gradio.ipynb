{
 "cells": [
  {
   "cell_type": "code",
   "execution_count": 4,
   "id": "6ad1b870",
   "metadata": {},
   "outputs": [
    {
     "name": "stdout",
     "output_type": "stream",
     "text": [
      "* Running on local URL:  http://127.0.0.1:7863\n",
      "* To create a public link, set `share=True` in `launch()`.\n"
     ]
    },
    {
     "data": {
      "text/html": [
       "<div><iframe src=\"http://127.0.0.1:7863/\" width=\"100%\" height=\"500\" allow=\"autoplay; camera; microphone; clipboard-read; clipboard-write;\" frameborder=\"0\" allowfullscreen></iframe></div>"
      ],
      "text/plain": [
       "<IPython.core.display.HTML object>"
      ]
     },
     "metadata": {},
     "output_type": "display_data"
    },
    {
     "data": {
      "text/plain": []
     },
     "execution_count": 4,
     "metadata": {},
     "output_type": "execute_result"
    },
    {
     "name": "stderr",
     "output_type": "stream",
     "text": [
      "/var/folders/wl/_sk4lq9107v79smv_pqvls780000gn/T/ipykernel_56714/311100752.py:17: FutureWarning: Downcasting object dtype arrays on .fillna, .ffill, .bfill is deprecated and will change in a future version. Call result.infer_objects(copy=False) instead. To opt-in to the future behavior, set `pd.set_option('future.no_silent_downcasting', True)`\n",
      "  data = data.fillna(0)\n",
      "/var/folders/wl/_sk4lq9107v79smv_pqvls780000gn/T/ipykernel_56714/311100752.py:17: FutureWarning: Downcasting object dtype arrays on .fillna, .ffill, .bfill is deprecated and will change in a future version. Call result.infer_objects(copy=False) instead. To opt-in to the future behavior, set `pd.set_option('future.no_silent_downcasting', True)`\n",
      "  data = data.fillna(0)\n"
     ]
    }
   ],
   "source": [
    "import gradio as gr\n",
    "import pandas as pd\n",
    "import numpy as np\n",
    "from sklearn.ensemble import GradientBoostingRegressor\n",
    "from sklearn.model_selection import cross_val_score\n",
    "from sklearn.metrics import mean_squared_error, r2_score\n",
    "from bayes_opt import BayesianOptimization\n",
    "\n",
    "def process_and_predict(file2, file3, sheet_name):\n",
    "    # Excel読み込み・整形（あなたの処理に準拠）\n",
    "    def clean_data(data, drop_cols, drop_rows):\n",
    "        data = data.T\n",
    "        data.columns = data.iloc[1]\n",
    "        data = data.drop(data.index[[0, 1]])\n",
    "        data = data.drop(data.columns[drop_cols], axis=1)\n",
    "        data = data.drop(data.index[drop_rows])\n",
    "        data = data.fillna(0)\n",
    "        data = data[data[\"件数\"] != 0]\n",
    "        return data\n",
    "\n",
    "    df2 = pd.read_excel(file2.name, sheet_name=sheet_name)\n",
    "    df3 = pd.read_excel(file3.name, sheet_name=sheet_name)\n",
    "    \n",
    "    df2 = clean_data(df2, drop_cols=[0,1,9,10], drop_rows=[28,29,30,31])\n",
    "    df3 = clean_data(df3, drop_cols=[0,1,2,10,11], drop_rows=[31])\n",
    "\n",
    "    # 対数変換\n",
    "    df2 = df2.apply(lambda x: np.log(x + 1))\n",
    "    df3 = df3.apply(lambda x: np.log(x + 1))\n",
    "\n",
    "    # カラム順合わせ\n",
    "    df2 = df2[df3.columns]\n",
    "\n",
    "    # 学習・予測用データ\n",
    "    X_train = df2.drop(columns='件数')\n",
    "    y_train = df2['件数']\n",
    "    X_test = df3.drop(columns='件数')\n",
    "    y_test = df3['件数']\n",
    "\n",
    "    # ベイズ最適化\n",
    "    def optimize_model(n_estimators, learning_rate, max_depth, max_features, min_samples_split, subsample):\n",
    "        model = GradientBoostingRegressor(\n",
    "            n_estimators=int(n_estimators),\n",
    "            learning_rate=learning_rate,\n",
    "            max_depth=int(max_depth),\n",
    "            max_features=max_features,\n",
    "            min_samples_split=int(min_samples_split),\n",
    "            subsample=subsample,\n",
    "            random_state=42\n",
    "        )\n",
    "        return cross_val_score(model, X_train, y_train, cv=5, scoring='r2').mean()\n",
    "\n",
    "    pbounds = {\n",
    "        'n_estimators': (100, 1000),\n",
    "        'learning_rate': (0.005, 0.3),\n",
    "        'max_depth': (3, 15),\n",
    "        'min_samples_split': (2, 20),\n",
    "        'subsample': (0.5, 1.0),\n",
    "        'max_features': (0.5, 1.0)\n",
    "    }\n",
    "\n",
    "    optimizer = BayesianOptimization(f=optimize_model, pbounds=pbounds, random_state=42, verbose=0)\n",
    "    optimizer.maximize(init_points=5, n_iter=20)\n",
    "    best_params = optimizer.max['params']\n",
    "    best_params['n_estimators'] = int(best_params['n_estimators'])\n",
    "    best_params['max_depth'] = int(best_params['max_depth'])\n",
    "    best_params['min_samples_split'] = int(best_params['min_samples_split'])\n",
    "\n",
    "    model = GradientBoostingRegressor(**best_params, random_state=42)\n",
    "    model.fit(X_train, y_train)\n",
    "\n",
    "    # 予測と元スケールへの逆変換\n",
    "    y_pred = model.predict(X_test)\n",
    "    y_pred_original = np.exp(y_pred)\n",
    "    y_test_original = np.exp(y_test)\n",
    "\n",
    "    result_df = pd.DataFrame({\n",
    "        \"日付\": df3.index,\n",
    "        \"実測件数\": y_test_original.values,\n",
    "        \"予測件数\": y_pred_original,\n",
    "        \"差分\": y_pred_original - y_test_original.values\n",
    "    })\n",
    "\n",
    "    r2 = r2_score(y_test_original, y_pred_original)\n",
    "    summary = f\"R²スコア: {r2:.3f}（1に近いほど良好）\"\n",
    "\n",
    "    return summary, result_df\n",
    "\n",
    "# Gradio UI\n",
    "gr.Interface(\n",
    "    fn=process_and_predict,\n",
    "    inputs=[\n",
    "        gr.File(label=\"2月のExcelファイル（件数あり）\"),\n",
    "        gr.File(label=\"3月のExcelファイル（予測対象）\"),\n",
    "        gr.Textbox(label=\"シート名\", value=\"実績昼\")\n",
    "    ],\n",
    "    outputs=[\n",
    "        gr.Text(label=\"予測モデルの性能\"),\n",
    "        gr.Dataframe(label=\"各日の予測 vs 実測（件数）\")\n",
    "    ],\n",
    "    title=\"工場作業件数の予測ツール（Gradio版）\",\n",
    "    description=\"2月の実績をもとに、3月の作業件数を予測します。Excelファイルをアップしてください。\"\n",
    ").launch()\n"
   ]
  }
 ],
 "metadata": {
  "kernelspec": {
   "display_name": ".venv",
   "language": "python",
   "name": "python3"
  },
  "language_info": {
   "codemirror_mode": {
    "name": "ipython",
    "version": 3
   },
   "file_extension": ".py",
   "mimetype": "text/x-python",
   "name": "python",
   "nbconvert_exporter": "python",
   "pygments_lexer": "ipython3",
   "version": "3.13.2"
  }
 },
 "nbformat": 4,
 "nbformat_minor": 5
}
